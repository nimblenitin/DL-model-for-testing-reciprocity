{
  "nbformat": 4,
  "nbformat_minor": 0,
  "metadata": {
    "colab": {
      "name": "TFA_perceptron_model_final.ipynb",
      "version": "0.3.2",
      "provenance": [],
      "toc_visible": true
    },
    "kernelspec": {
      "display_name": "Python 3",
      "language": "python",
      "name": "python3"
    }
  },
  "cells": [
    {
      "metadata": {
        "trusted": true,
        "_uuid": "4d97563d3a783ca718d8db6088b9e69a319148c2",
        "id": "drfDwOZkHNYI",
        "colab_type": "code",
        "colab": {}
      },
      "cell_type": "code",
      "source": [
        "import numpy as np\n",
        "import pandas as pd\n",
        "import matplotlib.pyplot as plt\n",
        "from sklearn.preprocessing import LabelEncoder,MinMaxScaler, StandardScaler\n",
        "from sklearn.model_selection import train_test_split, ParameterGrid\n",
        "from sklearn.metrics import accuracy_score, confusion_matrix, mean_squared_error, log_loss\n",
        "import operator\n",
        "import json\n",
        "from IPython import display\n",
        "import os\n",
        "import warnings\n",
        "\n",
        "import random\n",
        "\n",
        "np.random.seed(0)\n",
        "warnings.filterwarnings(\"ignore\")\n",
        "THRESHOLD = 25"
      ],
      "execution_count": 0,
      "outputs": []
    },
    {
      "metadata": {
        "_uuid": "cc77a3d76042199b500cde2236109972a26df08a",
        "id": "IxXdqhFOHNYZ",
        "colab_type": "text"
      },
      "cell_type": "markdown",
      "source": [
        "Task: To predict whether the subject shows traits for Autism or not. <br>\n",
        "Assumption: If the average percentage of points(reciprocity) scored in test is <=25 threshold, then the user shows traits for Autism, otherwise not."
      ]
    },
    {
      "metadata": {
        "id": "S0DYINkoJVhU",
        "colab_type": "code",
        "colab": {
          "base_uri": "https://localhost:8080/",
          "height": 732
        },
        "outputId": "7602d2c8-bd41-410b-b186-ab0cdbf32301"
      },
      "cell_type": "code",
      "source": [
        "#!wget https://www.dropbox.com/s/43lkf9ekh4r06mc/train.csv?dl=0\n",
        "#!wget https://www.dropbox.com/s/q75gblch7wmsqok/test.csv?dl=0"
      ],
      "execution_count": 5,
      "outputs": [
        {
          "output_type": "stream",
          "text": [
            "--2019-04-07 14:15:29--  https://www.dropbox.com/s/43lkf9ekh4r06mc/train.csv?dl=0\n",
            "Resolving www.dropbox.com (www.dropbox.com)... 162.125.9.1, 2620:100:601f:1::a27d:901\n",
            "Connecting to www.dropbox.com (www.dropbox.com)|162.125.9.1|:443... connected.\n",
            "HTTP request sent, awaiting response... 301 Moved Permanently\n",
            "Location: /s/raw/43lkf9ekh4r06mc/train.csv [following]\n",
            "--2019-04-07 14:15:30--  https://www.dropbox.com/s/raw/43lkf9ekh4r06mc/train.csv\n",
            "Reusing existing connection to www.dropbox.com:443.\n",
            "HTTP request sent, awaiting response... 302 Found\n",
            "Location: https://uc8d5fff73bdad376cf97f977af6.dl.dropboxusercontent.com/cd/0/inline/Aenvwe0av5bILMk7iyde8gE0g9110PO_uYU0Mc_YbtrTINk6H_qgGaOMs4BoHXPMxRTks35fPwkrKRq3FIUsjQwcDPyeZo0QrxGsl1anipGq4A/file# [following]\n",
            "--2019-04-07 14:15:30--  https://uc8d5fff73bdad376cf97f977af6.dl.dropboxusercontent.com/cd/0/inline/Aenvwe0av5bILMk7iyde8gE0g9110PO_uYU0Mc_YbtrTINk6H_qgGaOMs4BoHXPMxRTks35fPwkrKRq3FIUsjQwcDPyeZo0QrxGsl1anipGq4A/file\n",
            "Resolving uc8d5fff73bdad376cf97f977af6.dl.dropboxusercontent.com (uc8d5fff73bdad376cf97f977af6.dl.dropboxusercontent.com)... 162.125.9.6, 2620:100:601f:6::a27d:906\n",
            "Connecting to uc8d5fff73bdad376cf97f977af6.dl.dropboxusercontent.com (uc8d5fff73bdad376cf97f977af6.dl.dropboxusercontent.com)|162.125.9.6|:443... connected.\n",
            "HTTP request sent, awaiting response... 200 OK\n",
            "Length: 4302 (4.2K) [text/plain]\n",
            "Saving to: ‘train.csv?dl=0’\n",
            "\n",
            "\rtrain.csv?dl=0        0%[                    ]       0  --.-KB/s               \rtrain.csv?dl=0      100%[===================>]   4.20K  --.-KB/s    in 0s      \n",
            "\n",
            "2019-04-07 14:15:30 (288 MB/s) - ‘train.csv?dl=0’ saved [4302/4302]\n",
            "\n",
            "--2019-04-07 14:15:35--  https://www.dropbox.com/s/q75gblch7wmsqok/test.csv?dl=0\n",
            "Resolving www.dropbox.com (www.dropbox.com)... 162.125.9.1, 2620:100:601f:1::a27d:901\n",
            "Connecting to www.dropbox.com (www.dropbox.com)|162.125.9.1|:443... connected.\n",
            "HTTP request sent, awaiting response... 301 Moved Permanently\n",
            "Location: /s/raw/q75gblch7wmsqok/test.csv [following]\n",
            "--2019-04-07 14:15:35--  https://www.dropbox.com/s/raw/q75gblch7wmsqok/test.csv\n",
            "Reusing existing connection to www.dropbox.com:443.\n",
            "HTTP request sent, awaiting response... 302 Found\n",
            "Location: https://ucd558b4f0f567dd27f9e2918947.dl.dropboxusercontent.com/cd/0/inline/Aem5uh5xY8TtINxHd9RKqHXkZ-r-YQQVucBstT9lqvDqUZyHRaPV0F91_Rzy4vc2Wc8oeziOV6OlvhzPZkhkLICLXQi4utyqYq_S0HuiWvboBQ/file# [following]\n",
            "--2019-04-07 14:15:36--  https://ucd558b4f0f567dd27f9e2918947.dl.dropboxusercontent.com/cd/0/inline/Aem5uh5xY8TtINxHd9RKqHXkZ-r-YQQVucBstT9lqvDqUZyHRaPV0F91_Rzy4vc2Wc8oeziOV6OlvhzPZkhkLICLXQi4utyqYq_S0HuiWvboBQ/file\n",
            "Resolving ucd558b4f0f567dd27f9e2918947.dl.dropboxusercontent.com (ucd558b4f0f567dd27f9e2918947.dl.dropboxusercontent.com)... 162.125.9.6, 2620:100:601b:6::a27d:806\n",
            "Connecting to ucd558b4f0f567dd27f9e2918947.dl.dropboxusercontent.com (ucd558b4f0f567dd27f9e2918947.dl.dropboxusercontent.com)|162.125.9.6|:443... connected.\n",
            "HTTP request sent, awaiting response... 200 OK\n",
            "Length: 880 [text/plain]\n",
            "Saving to: ‘test.csv?dl=0’\n",
            "\n",
            "test.csv?dl=0       100%[===================>]     880  --.-KB/s    in 0s      \n",
            "\n",
            "2019-04-07 14:15:36 (104 MB/s) - ‘test.csv?dl=0’ saved [880/880]\n",
            "\n"
          ],
          "name": "stdout"
        }
      ]
    },
    {
      "metadata": {
        "trusted": true,
        "_uuid": "9324955ae7974a40c8c29e3014abe1b1752cb341",
        "id": "ZMwDEzqiHNYg",
        "colab_type": "code",
        "outputId": "5bd5c339-432f-458b-f9b5-e61f54d70fb0",
        "colab": {
          "base_uri": "https://localhost:8080/",
          "height": 86
        }
      },
      "cell_type": "code",
      "source": [
        "# read data from file\n",
        "train = pd.read_csv(\"train.csv?dl=0\") \n",
        "test = pd.read_csv(\"test.csv?dl=0\")\n",
        "\n",
        "# check the number of features and data points in train\n",
        "print(\"Number of data points in train: %d\" % train.shape[0])\n",
        "print(\"Number of features in train: %d\" % train.shape[1])\n",
        "\n",
        "# check the number of features and data points in test\n",
        "print(\"Number of data points in test: %d\" % test.shape[0])\n",
        "print(\"Number of features in test: %d\" % test.shape[1])"
      ],
      "execution_count": 6,
      "outputs": [
        {
          "output_type": "stream",
          "text": [
            "Number of data points in train: 286\n",
            "Number of features in train: 6\n",
            "Number of data points in test: 75\n",
            "Number of features in test: 5\n"
          ],
          "name": "stdout"
        }
      ]
    },
    {
      "metadata": {
        "_uuid": "aefd4e68542c16d6bc9870c0a514b7e85adaf059",
        "id": "fUMBJaTpHNZi",
        "colab_type": "text"
      },
      "cell_type": "markdown",
      "source": [
        "# Removing unecessary features"
      ]
    },
    {
      "metadata": {
        "trusted": true,
        "_uuid": "4adbe3c8921df134b575a915986bec587b8a73d1",
        "id": "trCzNhVAHNac",
        "colab_type": "code",
        "colab": {
          "base_uri": "https://localhost:8080/",
          "height": 86
        },
        "outputId": "3add7930-a0b1-4add-e49d-d9849861ba7d"
      },
      "cell_type": "code",
      "source": [
        "# one hot encoding\n",
        "\n",
        "train_ids = train['ID']\n",
        "test_ids = test['ID']\n",
        "\n",
        "cols = list(test.columns)\n",
        "cols.remove('ID')\n",
        "cols.insert(0, 'ID')\n",
        "\n",
        "combined = pd.concat([train.drop('percentage', axis=1)[cols], test[cols]])\n",
        "print(combined.shape)\n",
        "print(combined.columns)\n",
        "\n",
        "combined = pd.get_dummies(combined)\n",
        "print(combined.shape)\n",
        "print(combined.columns)\n",
        "\n",
        "train_new = combined[combined['ID'].isin(train_ids)]\n",
        "test_new = combined[combined['ID'].isin(test_ids)]"
      ],
      "execution_count": 8,
      "outputs": [
        {
          "output_type": "stream",
          "text": [
            "(361, 5)\n",
            "Index(['ID', 'point_one', 'point_two', 'point_three', 'point_four'], dtype='object')\n",
            "(361, 5)\n",
            "Index(['ID', 'point_one', 'point_two', 'point_three', 'point_four'], dtype='object')\n"
          ],
          "name": "stdout"
        }
      ]
    },
    {
      "metadata": {
        "trusted": true,
        "_uuid": "99a64b45c0cabddfed30e612ad42afe084d4c40b",
        "id": "Cum7KnIWHNan",
        "colab_type": "code",
        "colab": {}
      },
      "cell_type": "code",
      "source": [
        "train_new = train_new.merge(train[['ID', 'percentage']], on='ID')"
      ],
      "execution_count": 0,
      "outputs": []
    },
    {
      "metadata": {
        "trusted": true,
        "_uuid": "7aa5c95b234bdca22cf1426b60838aabb7959ab2",
        "id": "b7pMo0c9HNat",
        "colab_type": "code",
        "colab": {
          "base_uri": "https://localhost:8080/",
          "height": 86
        },
        "outputId": "01654a48-5990-4deb-f019-5b1022ff3b63"
      },
      "cell_type": "code",
      "source": [
        "# check the number of features and data points in train\n",
        "print(\"Number of data points in train: %d\" % train_new.shape[0])\n",
        "print(\"Number of features in train: %d\" % train_new.shape[1])\n",
        "\n",
        "# check the number of features and data points in test\n",
        "print(\"Number of data points in test: %d\" % test_new.shape[0])\n",
        "print(\"Number of features in test: %d\" % test_new.shape[1])"
      ],
      "execution_count": 10,
      "outputs": [
        {
          "output_type": "stream",
          "text": [
            "Number of data points in train: 287\n",
            "Number of features in train: 6\n",
            "Number of data points in test: 76\n",
            "Number of features in test: 5\n"
          ],
          "name": "stdout"
        }
      ]
    },
    {
      "metadata": {
        "_uuid": "bae23124abdd2a9ad425c23aeb5813708f6a84c5",
        "id": "XI2GYYyhHNbT",
        "colab_type": "text"
      },
      "cell_type": "markdown",
      "source": [
        "#### Perform the head operation to get a feel for the test & train data and make basic observations"
      ]
    },
    {
      "metadata": {
        "trusted": true,
        "_uuid": "3891c9d72551a66332104f59561f7e74cc03c78d",
        "id": "R7y4oIb0HNbW",
        "colab_type": "code",
        "colab": {
          "base_uri": "https://localhost:8080/",
          "height": 206
        },
        "outputId": "609017e7-d702-41b7-9697-7a4b8a30b550"
      },
      "cell_type": "code",
      "source": [
        "train_new.head()\n",
        "# There is a ID column which is an indicator column and does not play any role decision making.\n"
      ],
      "execution_count": 12,
      "outputs": [
        {
          "output_type": "execute_result",
          "data": {
            "text/html": [
              "<div>\n",
              "<style scoped>\n",
              "    .dataframe tbody tr th:only-of-type {\n",
              "        vertical-align: middle;\n",
              "    }\n",
              "\n",
              "    .dataframe tbody tr th {\n",
              "        vertical-align: top;\n",
              "    }\n",
              "\n",
              "    .dataframe thead th {\n",
              "        text-align: right;\n",
              "    }\n",
              "</style>\n",
              "<table border=\"1\" class=\"dataframe\">\n",
              "  <thead>\n",
              "    <tr style=\"text-align: right;\">\n",
              "      <th></th>\n",
              "      <th>ID</th>\n",
              "      <th>point_one</th>\n",
              "      <th>point_two</th>\n",
              "      <th>point_three</th>\n",
              "      <th>point_four</th>\n",
              "      <th>percentage</th>\n",
              "    </tr>\n",
              "  </thead>\n",
              "  <tbody>\n",
              "    <tr>\n",
              "      <th>0</th>\n",
              "      <td>39</td>\n",
              "      <td>0</td>\n",
              "      <td>1</td>\n",
              "      <td>1</td>\n",
              "      <td>0</td>\n",
              "      <td>50</td>\n",
              "    </tr>\n",
              "    <tr>\n",
              "      <th>1</th>\n",
              "      <td>40</td>\n",
              "      <td>1</td>\n",
              "      <td>0</td>\n",
              "      <td>0</td>\n",
              "      <td>1</td>\n",
              "      <td>50</td>\n",
              "    </tr>\n",
              "    <tr>\n",
              "      <th>2</th>\n",
              "      <td>41</td>\n",
              "      <td>1</td>\n",
              "      <td>0</td>\n",
              "      <td>1</td>\n",
              "      <td>0</td>\n",
              "      <td>50</td>\n",
              "    </tr>\n",
              "    <tr>\n",
              "      <th>3</th>\n",
              "      <td>42</td>\n",
              "      <td>0</td>\n",
              "      <td>0</td>\n",
              "      <td>1</td>\n",
              "      <td>1</td>\n",
              "      <td>50</td>\n",
              "    </tr>\n",
              "    <tr>\n",
              "      <th>4</th>\n",
              "      <td>43</td>\n",
              "      <td>1</td>\n",
              "      <td>1</td>\n",
              "      <td>0</td>\n",
              "      <td>0</td>\n",
              "      <td>50</td>\n",
              "    </tr>\n",
              "  </tbody>\n",
              "</table>\n",
              "</div>"
            ],
            "text/plain": [
              "   ID  point_one  point_two  point_three  point_four  percentage\n",
              "0  39          0          1            1           0          50\n",
              "1  40          1          0            0           1          50\n",
              "2  41          1          0            1           0          50\n",
              "3  42          0          0            1           1          50\n",
              "4  43          1          1            0           0          50"
            ]
          },
          "metadata": {
            "tags": []
          },
          "execution_count": 12
        }
      ]
    },
    {
      "metadata": {
        "trusted": true,
        "_uuid": "4ccd013966647dd87da118ee20c0833240f3a0c2",
        "id": "JK7DbzkMHNbi",
        "colab_type": "code",
        "colab": {
          "base_uri": "https://localhost:8080/",
          "height": 206
        },
        "outputId": "b4b43e36-379d-4944-cdc5-317a5fea9b71"
      },
      "cell_type": "code",
      "source": [
        "test_new.head()\n",
        "# There is a ID column which is an indicator column and does not play any role decision making\n",
        "# There is no percentage column in test_new since this will have to predict by building a working model\n",
        "# on the train_data"
      ],
      "execution_count": 13,
      "outputs": [
        {
          "output_type": "execute_result",
          "data": {
            "text/html": [
              "<div>\n",
              "<style scoped>\n",
              "    .dataframe tbody tr th:only-of-type {\n",
              "        vertical-align: middle;\n",
              "    }\n",
              "\n",
              "    .dataframe tbody tr th {\n",
              "        vertical-align: top;\n",
              "    }\n",
              "\n",
              "    .dataframe thead th {\n",
              "        text-align: right;\n",
              "    }\n",
              "</style>\n",
              "<table border=\"1\" class=\"dataframe\">\n",
              "  <thead>\n",
              "    <tr style=\"text-align: right;\">\n",
              "      <th></th>\n",
              "      <th>ID</th>\n",
              "      <th>point_one</th>\n",
              "      <th>point_two</th>\n",
              "      <th>point_three</th>\n",
              "      <th>point_four</th>\n",
              "    </tr>\n",
              "  </thead>\n",
              "  <tbody>\n",
              "    <tr>\n",
              "      <th>105</th>\n",
              "      <td>180</td>\n",
              "      <td>1</td>\n",
              "      <td>1</td>\n",
              "      <td>1</td>\n",
              "      <td>1</td>\n",
              "    </tr>\n",
              "    <tr>\n",
              "      <th>0</th>\n",
              "      <td>81</td>\n",
              "      <td>0</td>\n",
              "      <td>0</td>\n",
              "      <td>0</td>\n",
              "      <td>0</td>\n",
              "    </tr>\n",
              "    <tr>\n",
              "      <th>1</th>\n",
              "      <td>83</td>\n",
              "      <td>0</td>\n",
              "      <td>0</td>\n",
              "      <td>0</td>\n",
              "      <td>0</td>\n",
              "    </tr>\n",
              "    <tr>\n",
              "      <th>2</th>\n",
              "      <td>87</td>\n",
              "      <td>0</td>\n",
              "      <td>0</td>\n",
              "      <td>0</td>\n",
              "      <td>0</td>\n",
              "    </tr>\n",
              "    <tr>\n",
              "      <th>3</th>\n",
              "      <td>88</td>\n",
              "      <td>0</td>\n",
              "      <td>0</td>\n",
              "      <td>0</td>\n",
              "      <td>0</td>\n",
              "    </tr>\n",
              "  </tbody>\n",
              "</table>\n",
              "</div>"
            ],
            "text/plain": [
              "      ID  point_one  point_two  point_three  point_four\n",
              "105  180          1          1            1           1\n",
              "0     81          0          0            0           0\n",
              "1     83          0          0            0           0\n",
              "2     87          0          0            0           0\n",
              "3     88          0          0            0           0"
            ]
          },
          "metadata": {
            "tags": []
          },
          "execution_count": 13
        }
      ]
    },
    {
      "metadata": {
        "_uuid": "3815472667aed3361e83802f6edbcd5133e1e082",
        "id": "e_O1bgHcHNbx",
        "colab_type": "text"
      },
      "cell_type": "markdown",
      "source": [
        "### Create staging DataFrames"
      ]
    },
    {
      "metadata": {
        "trusted": true,
        "_uuid": "b583a6b33a27199021e64d1d7039b5f4785ac87c",
        "id": "iBhqKf9uHNb2",
        "colab_type": "code",
        "colab": {}
      },
      "cell_type": "code",
      "source": [
        "# Create X_train which will hold all columns except ID and percentage using train_new\n",
        "# Create Y_train which will only hold the percentage column present in train_new, note that the dataframe maintains integrity of the PhoneID \n",
        "# which is very essential\n",
        "\n",
        "# Create X_test which will hold all columns except ID\n",
        "# There is no Y_test for obvious reasons as this is what you will be predicting \n",
        "\n",
        "X_train = train_new.drop(['ID','percentage'],axis=1)\n",
        "Y_train = train_new['percentage'].map(lambda x: 1 if x <= 25 else 0) # Notice that if reciprocity % <=25 then shows traits for Autism\n",
        "\n",
        "X_test = test_new.drop(['ID'],axis=1)"
      ],
      "execution_count": 0,
      "outputs": []
    },
    {
      "metadata": {
        "_uuid": "9b4efc2670cd71efbae42f22c3d1b636199f36e8",
        "id": "osTCKDKeHNcj",
        "colab_type": "text"
      },
      "cell_type": "markdown",
      "source": [
        "### The Perceptron Model"
      ]
    },
    {
      "metadata": {
        "trusted": true,
        "_uuid": "6b068647f08204767684d8fa6b9d1577ddf73a56",
        "id": "X1SD_VxPHNcx",
        "colab_type": "code",
        "colab": {
          "base_uri": "https://localhost:8080/",
          "height": 52
        },
        "outputId": "3f099126-a64e-4b1f-e117-2859ae327296"
      },
      "cell_type": "code",
      "source": [
        "from sklearn import preprocessing\n",
        "from sklearn.preprocessing import MinMaxScaler\n",
        "\n",
        "scaler = MinMaxScaler()\n",
        "print(scaler.fit(X_train))\n",
        "MinMaxScaler(copy=True, feature_range=(0, 1))\n",
        "\n",
        "X_train = scaler.transform(X_train)\n",
        "\n",
        "scaler = MinMaxScaler()\n",
        "print(scaler.fit(X_test))\n",
        "MinMaxScaler(copy=True, feature_range=(0, 1))\n",
        "\n",
        "X_test = scaler.transform(X_test)"
      ],
      "execution_count": 15,
      "outputs": [
        {
          "output_type": "stream",
          "text": [
            "MinMaxScaler(copy=True, feature_range=(0, 1))\n",
            "MinMaxScaler(copy=True, feature_range=(0, 1))\n"
          ],
          "name": "stdout"
        }
      ]
    },
    {
      "metadata": {
        "_uuid": "1c3eb6b65fa94a144890f0bfe82defb347ec8351",
        "id": "lkY286VVHNc4",
        "colab_type": "text"
      },
      "cell_type": "markdown",
      "source": [
        "### X_train Standardized"
      ]
    },
    {
      "metadata": {
        "trusted": true,
        "_uuid": "637533d6f3cd35081399a3d1279ef5377e8dbae8",
        "id": "6OF1010-HNc5",
        "colab_type": "code",
        "colab": {
          "base_uri": "https://localhost:8080/",
          "height": 34
        },
        "outputId": "875a4acd-d9da-4443-a3c8-b50ff2df681a"
      },
      "cell_type": "code",
      "source": [
        "X_train[0:1]"
      ],
      "execution_count": 16,
      "outputs": [
        {
          "output_type": "execute_result",
          "data": {
            "text/plain": [
              "array([[0., 1., 1., 0.]])"
            ]
          },
          "metadata": {
            "tags": []
          },
          "execution_count": 16
        }
      ]
    },
    {
      "metadata": {
        "trusted": true,
        "_uuid": "b5c533ee157a25c6b95848d414c125cbf5bbeb22",
        "id": "V3iweAicHNc-",
        "colab_type": "code",
        "colab": {}
      },
      "cell_type": "code",
      "source": [
        "class Perceptron:\n",
        "    def __init__ (self):\n",
        "        self.w = None\n",
        "        self.b = None\n",
        " \n",
        "    def model(self, x):\n",
        "        return 1 if (np.dot(self.w, x) >= self.b) else 0\n",
        "    \n",
        "    def predict(self,X):\n",
        "        Y = []\n",
        "        for x in X:\n",
        "            result=self.model(x)\n",
        "            Y.append(result)\n",
        "        return np.array(Y)\n",
        "    \n",
        "    def fit(self,X, Y, epochs = 1, lr = 1):\n",
        "        #Weights = 0\n",
        "        self.w = np.ones(X.shape[1]) #np.random.rand(73)\n",
        "        self.b = 0 #random.randint(0,1)\n",
        "        \n",
        "        accuracy = {}\n",
        "        max_accuracy = 0\n",
        "        \n",
        "        for i in range(epochs):\n",
        "            for x,y in zip(X, Y):\n",
        "                y_pred = self.model(x)\n",
        "                if y==1 and y_pred ==0 :\n",
        "                    self.w = self.w + lr * x\n",
        "                    self.b = self.b - lr * 1\n",
        "                #elif y==1 and y_pred == 1:\n",
        "                    #self.w = self.w\n",
        "                    #self.b = self.b\n",
        "                #elif y==0 and y_pred == 0:\n",
        "                    #self.w = self.w\n",
        "                    #self.b = self.b\n",
        "                elif y==0 and y_pred ==1:\n",
        "                    self.w = self.w - lr * x\n",
        "                    self.b = self.b + lr * 1\n",
        "            accuracy[i] = accuracy_score(self.predict(X),Y)\n",
        "            if (accuracy[i] > max_accuracy):\n",
        "                max_accuracy = accuracy[i]\n",
        "                chkptw = self.w\n",
        "                chkptb = self.b\n",
        "            #    self.var = self.var - 1\n",
        "            #elif (accuracy[i] < max_accuracy):\n",
        "            #    self.var = self.var + 1\n",
        "                \n",
        "        self.w = chkptw\n",
        "        self.b = chkptb\n",
        "        \n",
        "        print(max_accuracy)\n",
        "        #print(self.var)\n",
        "        print(self.w)\n",
        "        plt.plot(accuracy.values())\n",
        "        plt.ylim([0,1])\n",
        "        plt.show()"
      ],
      "execution_count": 0,
      "outputs": []
    },
    {
      "metadata": {
        "trusted": true,
        "_uuid": "06b06a6fa00ad46aee2c3cbfc9e5d641a3a4e5e3",
        "id": "jnZifm5aHNdE",
        "colab_type": "code",
        "colab": {}
      },
      "cell_type": "code",
      "source": [
        "perceptron = Perceptron()"
      ],
      "execution_count": 0,
      "outputs": []
    },
    {
      "metadata": {
        "_uuid": "c7b58209edddd3d40b45c04ae46676226f4232ce",
        "id": "fB2Jty6NHNdI",
        "colab_type": "text"
      },
      "cell_type": "markdown",
      "source": [
        "### Epochs and Learning Rate\n",
        "#### Best practise is to adjust Epochs and Learning rate in steps to improve accuracy. I used a high epoch value and a lower learning rate to stablize the model. You can try with other epoch values and observe the curve."
      ]
    },
    {
      "metadata": {
        "trusted": true,
        "_uuid": "538de710261aa9b7e8f2ecc89c5063e791d80a3f",
        "id": "jCf0742jHNdL",
        "colab_type": "code",
        "colab": {
          "base_uri": "https://localhost:8080/",
          "height": 386
        },
        "outputId": "12f6633b-bad1-46f0-c17c-f80792100ce7"
      },
      "cell_type": "code",
      "source": [
        "perceptron.fit(X_train,Y_train,1000,.01)"
      ],
      "execution_count": 19,
      "outputs": [
        {
          "output_type": "stream",
          "text": [
            "1.0\n",
            "[-0.02 -0.01 -0.02 -0.02]\n"
          ],
          "name": "stdout"
        },
        {
          "output_type": "display_data",
          "data": {
            "image/png": "[encoded data removed]",
            "text/plain": [
              "<Figure size 576x396 with 1 Axes>"
            ]
          },
          "metadata": {
            "tags": []
          }
        }
      ]
    },
    {
      "metadata": {
        "trusted": true,
        "_uuid": "12b270837f6b5bfb4976b353dbc948c5f6c4116d",
        "id": "NkO8U1pDHNdS",
        "colab_type": "code",
        "colab": {
          "base_uri": "https://localhost:8080/",
          "height": 347
        },
        "outputId": "10a87a53-2eeb-443e-b097-56a653b9c160"
      },
      "cell_type": "code",
      "source": [
        "plt.plot(perceptron.w)\n",
        "plt.show()"
      ],
      "execution_count": 20,
      "outputs": [
        {
          "output_type": "display_data",
          "data": {
            "image/png": "[encoded data removed]",
            "text/plain": [
              "<Figure size 576x396 with 1 Axes>"
            ]
          },
          "metadata": {
            "tags": []
          }
        }
      ]
    },
    {
      "metadata": {
        "trusted": true,
        "_uuid": "00fff960a43c59a456b2d37683bd4fa083bea6b2",
        "id": "dINHzWz3HNde",
        "colab_type": "code",
        "colab": {}
      },
      "cell_type": "code",
      "source": [
        "Y_pred_train = perceptron.predict(X_train)"
      ],
      "execution_count": 0,
      "outputs": []
    },
    {
      "metadata": {
        "trusted": true,
        "_uuid": "9e9ead05dcd393a2ece6f4767f3d2993afaf7f93",
        "id": "60QzNFpnHNdh",
        "colab_type": "code",
        "colab": {
          "base_uri": "https://localhost:8080/",
          "height": 54
        },
        "outputId": "61f47610-691c-4c8a-ee8c-ae63652297da"
      },
      "cell_type": "code",
      "source": [
        "Y_pred_test = perceptron.predict(X_test)\n",
        "Y_pred_test = list(Y_pred_test)\n",
        "print(Y_pred_test)"
      ],
      "execution_count": 22,
      "outputs": [
        {
          "output_type": "stream",
          "text": [
            "[0, 1, 1, 1, 1, 1, 1, 1, 1, 1, 1, 1, 1, 1, 1, 1, 1, 1, 1, 1, 1, 1, 1, 1, 1, 1, 1, 1, 1, 1, 1, 0, 0, 0, 0, 0, 0, 0, 0, 0, 0, 0, 0, 0, 0, 0, 0, 0, 0, 0, 0, 0, 0, 0, 0, 0, 0, 0, 0, 0, 0, 0, 0, 0, 0, 0, 0, 0, 0, 0, 0, 0, 0, 0, 0, 0]\n"
          ],
          "name": "stdout"
        }
      ]
    },
    {
      "metadata": {
        "trusted": true,
        "_uuid": "38f79f8869a8ab26abd659c2884e90349390baeb",
        "id": "fGZ0Vit4HNdn",
        "colab_type": "code",
        "colab": {
          "base_uri": "https://localhost:8080/",
          "height": 206
        },
        "outputId": "07427c3b-c2e9-4ccb-a366-74e1f1a98d67"
      },
      "cell_type": "code",
      "source": [
        "submission = pd.DataFrame({'ID':test_new['ID'], 'Autism_trait':Y_pred_test})\n",
        "submission = submission[['ID', 'Autism_trait']]\n",
        "submission.head()"
      ],
      "execution_count": 24,
      "outputs": [
        {
          "output_type": "execute_result",
          "data": {
            "text/html": [
              "<div>\n",
              "<style scoped>\n",
              "    .dataframe tbody tr th:only-of-type {\n",
              "        vertical-align: middle;\n",
              "    }\n",
              "\n",
              "    .dataframe tbody tr th {\n",
              "        vertical-align: top;\n",
              "    }\n",
              "\n",
              "    .dataframe thead th {\n",
              "        text-align: right;\n",
              "    }\n",
              "</style>\n",
              "<table border=\"1\" class=\"dataframe\">\n",
              "  <thead>\n",
              "    <tr style=\"text-align: right;\">\n",
              "      <th></th>\n",
              "      <th>ID</th>\n",
              "      <th>Autism_trait</th>\n",
              "    </tr>\n",
              "  </thead>\n",
              "  <tbody>\n",
              "    <tr>\n",
              "      <th>105</th>\n",
              "      <td>180</td>\n",
              "      <td>0</td>\n",
              "    </tr>\n",
              "    <tr>\n",
              "      <th>0</th>\n",
              "      <td>81</td>\n",
              "      <td>1</td>\n",
              "    </tr>\n",
              "    <tr>\n",
              "      <th>1</th>\n",
              "      <td>83</td>\n",
              "      <td>1</td>\n",
              "    </tr>\n",
              "    <tr>\n",
              "      <th>2</th>\n",
              "      <td>87</td>\n",
              "      <td>1</td>\n",
              "    </tr>\n",
              "    <tr>\n",
              "      <th>3</th>\n",
              "      <td>88</td>\n",
              "      <td>1</td>\n",
              "    </tr>\n",
              "  </tbody>\n",
              "</table>\n",
              "</div>"
            ],
            "text/plain": [
              "      ID  Autism_trait\n",
              "105  180             0\n",
              "0     81             1\n",
              "1     83             1\n",
              "2     87             1\n",
              "3     88             1"
            ]
          },
          "metadata": {
            "tags": []
          },
          "execution_count": 24
        }
      ]
    },
    {
      "metadata": {
        "trusted": true,
        "_uuid": "6a9f43f0b69c00e938563cdd5b6817f73e7bb647",
        "id": "a0fmS5R5HNdu",
        "colab_type": "code",
        "colab": {}
      },
      "cell_type": "code",
      "source": [
        "submission.to_csv(\"submission.csv\", index=False)"
      ],
      "execution_count": 0,
      "outputs": []
    },
    {
      "metadata": {
        "_uuid": "5f6155d7f077cdef1e6f29e6f49f964b69fd83b7",
        "id": "zW1Q0P5aHNdy",
        "colab_type": "text"
      },
      "cell_type": "markdown",
      "source": [
        "### References\n",
        "\n",
        "##### 1. Course on Deep learning by Onefourthlabs\n"
      ]
    }
  ]
}